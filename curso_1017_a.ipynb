{
  "nbformat": 4,
  "nbformat_minor": 0,
  "metadata": {
    "colab": {
      "provenance": []
    },
    "kernelspec": {
      "name": "python3",
      "display_name": "Python 3"
    },
    "language_info": {
      "name": "python"
    }
  },
  "cells": [
    {
      "cell_type": "markdown",
      "source": [
        "# 1. Introducción a Google Colab\n",
        "\n",
        "## ¿Qué es Google Colab?\n",
        "\n",
        "Google Colab (Colaboratory) es un entorno de Jupyter Notebook gratuito que se ejecuta en la nube y no requiere configuración. Permite escribir y ejecutar código Python directamente en el navegador.\n",
        "\n",
        "## Ventajas de Google Colab\n",
        "\n",
        "  - Sin configuración: No es necesario instalar nada localmente\n",
        "  - Recursos en la nube: Acceso a GPUs y TPUs gratuito\n",
        "  - Colaboración: Fácil de compartir y trabajar en equipo\n",
        "  - Integración con Google Drive: Almacenamiento persistente de notebooks\n",
        "\n",
        "## Primeros pasos en Colab\n",
        "\n",
        "  - 1.- Accede a colab.research.google.com\n",
        "  - 2.- Inicia sesión con tu cuenta de Google\n",
        "  - 3.- Crea un nuevo notebook o abre uno existente\n",
        "\n",
        "## Interfaz básica\n",
        "\n",
        "  - Celdas de código: Para escribir y ejecutar código Python (Ctrl+Enter para ejecutar)\n",
        "  - Celdas de texto: Para documentar usando Markdown\n",
        "  - Barra de herramientas: Opciones para ejecutar, añadir celdas, etc.\n",
        "\n",
        "## Ejemplo: Tu primera celda en Colab"
      ],
      "metadata": {
        "id": "TQFfu2H7T7jb"
      }
    },
    {
      "cell_type": "code",
      "execution_count": null,
      "metadata": {
        "id": "9YqaKLpXTu5L"
      },
      "outputs": [],
      "source": [
        "print(\"¡Hola, bienvenidos a Python!\")"
      ]
    },
    {
      "cell_type": "markdown",
      "source": [
        "# 2. Fundamentos básicos de Python\n",
        "\n",
        "## Sintaxis básica\n",
        "\n",
        "Python se caracteriza por su simplicidad y legibilidad:"
      ],
      "metadata": {
        "id": "sWa_3eJlVJ6p"
      }
    },
    {
      "cell_type": "code",
      "source": [
        "# Variables y tipos de datos\n",
        "nombre = \"Python\"     # String\n",
        "generaciones = 100    # Integer\n",
        "amplitud = 0.85       # Float\n",
        "valor_optimo = True   # Boolean"
      ],
      "metadata": {
        "id": "b5-HMEK1XYFn"
      },
      "execution_count": null,
      "outputs": []
    },
    {
      "cell_type": "code",
      "source": [
        "# Operadores comunes\n",
        "numero1 = 5\n",
        "numero2 = 3\n",
        "suma = numero1 + numero2\n",
        "resta = numero1 - numero2\n",
        "multiplicacion = numero1 * numero2\n",
        "division = numero1 / numero2\n",
        "\n",
        "print('suma:', suma)\n",
        "print('resta:', resta)\n",
        "print('multiplicacion:', multiplicacion)\n",
        "print('division:', division)"
      ],
      "metadata": {
        "id": "R1x_xTpVKX_L"
      },
      "execution_count": null,
      "outputs": []
    },
    {
      "cell_type": "code",
      "source": [
        "# Otros operadores\n",
        "potencia = numero1 ** numero2\n",
        "modulo = numero1 % numero2\n",
        "division_entera = numero1 // numero2\n",
        "\n",
        "print('potencia:', potencia)\n",
        "print('modulo:', modulo)\n",
        "print('division_entera:', division_entera)"
      ],
      "metadata": {
        "id": "VF50ZgRvKncb"
      },
      "execution_count": null,
      "outputs": []
    },
    {
      "cell_type": "code",
      "source": [
        "# Listas\n",
        "poblacion = [1, 2, 3, 4, 5]\n",
        "print('poblacion:', poblacion)  # Imprime la lista\n",
        "print('poblacion[0]:', poblacion[0])  # Imprime el primer elemento de la lista\n",
        "print('poblacion[1:3]:', poblacion[1:3])  # Imprime los elementos 1 y 2 de la lista"
      ],
      "metadata": {
        "id": "5bpJeD97XeTQ"
      },
      "execution_count": null,
      "outputs": []
    },
    {
      "cell_type": "code",
      "source": [
        "poblacion.append(6) # Agrega un elemento al final de la lista\n",
        "print('poblacion.append(6):', poblacion)\n",
        "\n",
        "poblacion.remove(3) # Remueve el primer elemento que coincida con el elemento dado\n",
        "print('poblacion.remove(3):', poblacion)\n",
        "\n",
        "poblacion.pop(0)  # Elimmina el elemento en la posición proporcionada\n",
        "print('poblacion.pop(0):', poblacion)\n",
        "\n",
        "poblacion.insert(0, 1)  # Inserta el elemento dado en la posición proporcionada\n",
        "print('poblacion.insert(0, 1):', poblacion)\n",
        "\n",
        "poblacion.reverse() # Ordena la lista de forma inversa\n",
        "print('poblacion.reverse():', poblacion)\n",
        "\n",
        "poblacion.sort()  # Ordena la lista de menor a mayor\n",
        "print('poblacion.sort():', poblacion)\n",
        "\n",
        "poblacion.clear()  # Elimina todos los elementos de la lista\n",
        "print('poblacion.clear():', poblacion)\n",
        "\n",
        "poblacion.extend([1, 2, 3, 4, 5])  # Agrega los elementos de una lista al final de la lista\n",
        "print('poblacion.extend([1, 2, 3, 4, 5]):', poblacion)"
      ],
      "metadata": {
        "id": "XzJTcrijWwIk"
      },
      "execution_count": null,
      "outputs": []
    },
    {
      "cell_type": "code",
      "source": [
        "print('poblacion.count(2):', poblacion.count(2))  # Cuenta el número de veces que el elemento dado aparece en la lista\n",
        "print('poblacion.index(3):', poblacion.index(3))  # Devuelve el índice del primer elemento que coincida con el elemento dado\n",
        "print('len(poblacion):', len(poblacion))  # Devuelve el número de elementos en la lista\n",
        "print('max(poblacion):', max(poblacion))  # Devuelve el elemento máximo en la lista\n",
        "print('min(poblacion):', min(poblacion))  # Devuelve el elemento mínimo en la lista\n",
        "print('sum(poblacion):', sum(poblacion))  # Devuelve la suma de todos los elementos en la lista"
      ],
      "metadata": {
        "id": "d2m1dIHBX8Ca"
      },
      "execution_count": null,
      "outputs": []
    },
    {
      "cell_type": "code",
      "source": [
        "# Diccionarios\n",
        "individuo = {'fitness': 0.75, 'genes': [0, 1, 0, 1, 1]}  # Crea un diccionario con dos pares clave-valor\n",
        "print('individuo:', individuo) # Imprime el diccionario\n",
        "print('individuo[\"fitness\"]:', individuo[\"fitness\"]) # Imprime el valor que se encuentra a traves de la clave 'fitness'\n",
        "print('individuo[\"genes\"]:', individuo[\"genes\"])  # Imprime el valor que se encuentra a traves de la clave 'genes'"
      ],
      "metadata": {
        "id": "SNch33ZzYdQS"
      },
      "execution_count": null,
      "outputs": []
    },
    {
      "cell_type": "code",
      "source": [
        "print('individuo.keys():', individuo.keys())  # Devuelve una lista de todas las claves en el diccionario\n",
        "print('individuo.values():', individuo.values())  # Devuelve una lista de todos los valores en el diccionario\n",
        "print('individuo.items():', individuo.items())  # Devuelve una lista de tuplas (clave, valor) en el diccionario"
      ],
      "metadata": {
        "id": "6z-Zmt2pYs3E"
      },
      "execution_count": null,
      "outputs": []
    },
    {
      "cell_type": "code",
      "source": [
        "# Control de flujo\n",
        "if amplitud > 0.5:\n",
        "  print('amplitud es mayor que 0.5')\n",
        "elif amplitud < 0.5:\n",
        "  print('amplitud es menor que 0.5')\n",
        "else:\n",
        "  print('amplitud es igual a 0.5')"
      ],
      "metadata": {
        "id": "evHV8deXY3bo"
      },
      "execution_count": null,
      "outputs": []
    },
    {
      "cell_type": "code",
      "source": [
        "if valor_optimo:\n",
        "  print('valor_optimo es verdadero')\n",
        "else:\n",
        "  print('valor_optimo es falso')"
      ],
      "metadata": {
        "id": "dGo5NLkVauLz"
      },
      "execution_count": null,
      "outputs": []
    },
    {
      "cell_type": "code",
      "source": [
        "# Bucle for\n",
        "for i in range(5):\n",
        "  print(i)"
      ],
      "metadata": {
        "id": "nNtAXzPwZLIr"
      },
      "execution_count": null,
      "outputs": []
    },
    {
      "cell_type": "code",
      "source": [
        "valores = [4, 8, 5, 3, 6]\n",
        "for valor in valores:\n",
        "  print(valor)"
      ],
      "metadata": {
        "id": "_6OdtsviZQEa"
      },
      "execution_count": null,
      "outputs": []
    },
    {
      "cell_type": "code",
      "source": [
        "for llave, valor in individuo.items():\n",
        "  print(llave, valor)"
      ],
      "metadata": {
        "id": "h-aDjwA9ZXrd"
      },
      "execution_count": null,
      "outputs": []
    },
    {
      "cell_type": "code",
      "source": [
        "# Bucle while\n",
        "generaciones = 10\n",
        "while generaciones > 0:\n",
        "  print(generaciones)\n",
        "  generaciones -= 1"
      ],
      "metadata": {
        "id": "PReS8LH2Zbgx"
      },
      "execution_count": null,
      "outputs": []
    },
    {
      "cell_type": "code",
      "source": [
        "# Funciones\n",
        "def saludar(nombre):\n",
        "  print('¡Hola, ' + nombre + '!')\n",
        "\n",
        "saludar('Python')"
      ],
      "metadata": {
        "id": "Uv_uhbgAZibz"
      },
      "execution_count": null,
      "outputs": []
    },
    {
      "cell_type": "code",
      "source": [
        "# Clases u objetos\n",
        "class Neurona:\n",
        "  def __init__(self, pesos, sesgo):\n",
        "    self.pesos = pesos\n",
        "    self.sesgo = sesgo\n",
        "\n",
        "  def activar(self, entradas):\n",
        "    if len(entradas) != len(self.pesos):\n",
        "      raise ValueError(\"El número de entradas debe coincidir con el número de pesos.\")\n",
        "\n",
        "    ponderacion = sum(entrada * peso for entrada, peso in zip(entradas, self.pesos))\n",
        "    y = ponderacion - self.sesgo\n",
        "    return self.relu(y)\n",
        "\n",
        "  def relu(self, x):\n",
        "    return max([0, x])"
      ],
      "metadata": {
        "id": "iSmnfKy9ZsTQ"
      },
      "execution_count": null,
      "outputs": []
    },
    {
      "cell_type": "code",
      "source": [
        "neurona = Neurona(pesos=[0.5, -0.2, 0.1], sesgo=0.3)  # Creamos una neurona\n",
        "\n",
        "entradas = [1.0, 0.5, -1.0] # Definimos las entradas\n",
        "\n",
        "salida = neurona.activar(entradas)  # Activamos la neurona con las entradas\n",
        "\n",
        "print(f\"La salida de la neurona con entradas {entradas} es: {salida}\")"
      ],
      "metadata": {
        "id": "ghGW3pPBbiWj"
      },
      "execution_count": null,
      "outputs": []
    },
    {
      "cell_type": "markdown",
      "source": [
        "# Math\n",
        "\n",
        "La librería [math](https://docs.python.org/es/3.10/library/math.html) en Python es un módulo que te brinda acceso a funciones matemáticas estándar. Permite realizar cálculos comunes como logaritmos, exponenciales y funciones trigonométricas, facilitando la implementación de fórmulas matemáticas complejas en tu código.\n",
        "\n",
        "Además de las funciones, la librería math también incluye constantes matemáticas importantes como el valor de pi y el número de Euler (e), que son útiles para diversas operaciones y cálculos científicos o de ingeniería."
      ],
      "metadata": {
        "id": "r7U9J69rbv8O"
      }
    },
    {
      "cell_type": "code",
      "source": [
        "# Importar libreria\n",
        "import math"
      ],
      "metadata": {
        "id": "DQypu8Ihbrd0"
      },
      "execution_count": null,
      "outputs": []
    },
    {
      "cell_type": "code",
      "source": [
        "# Constantes en math\n",
        "print('math.pi:', math.pi)\n",
        "print('math.e:', math.e)\n",
        "print('math.tau:', math.tau)\n",
        "print('math.inf:', math.inf)\n",
        "print('math.nan:', math.nan)"
      ],
      "metadata": {
        "id": "1o8pUAn4J8DZ"
      },
      "execution_count": null,
      "outputs": []
    },
    {
      "cell_type": "code",
      "source": [
        "# Funciones trigonometricas comunes\n",
        "print('math.sin(math.pi):', math.sin(math.pi))\n",
        "print('math.cos(math.pi):', math.cos(math.pi))\n",
        "print('math.tan(math.pi):', math.tan(math.pi))"
      ],
      "metadata": {
        "id": "2C-DsNnmKDd7"
      },
      "execution_count": null,
      "outputs": []
    },
    {
      "cell_type": "code",
      "source": [
        "# Pueba otras funciones en math"
      ],
      "metadata": {
        "id": "1hPfUZH1KO6F"
      },
      "execution_count": null,
      "outputs": []
    },
    {
      "cell_type": "markdown",
      "source": [
        "# Libreria Random\n",
        "\n",
        "La librería [random](https://docs.python.org/es/3.10/library/random.html#) en Python es un módulo fundamental que proporciona herramientas para generar números pseudoaleatorios. Es muy útil en una amplia gama de aplicaciones, desde simulaciones y juegos hasta algoritmos que requieren aleatoriedad, como los algoritmos genéticos. Permite obtener valores aleatorios de diferentes tipos de distribuciones, tanto para números enteros dentro de un rango específico como para números decimales.\n",
        "\n",
        "Esta librería ofrece diversas funciones para trabajar con la aleatoriedad. Por ejemplo, se pueden generar números enteros aleatorios dentro de un intervalo definido, seleccionar un elemento aleatorio de una secuencia (como una lista o una tupla), o incluso reordenar aleatoriamente los elementos de una lista. La capacidad de generar aleatoriedad controlada es clave para muchos procesos computacionales, y la librería random simplifica enormemente esta tarea en Python."
      ],
      "metadata": {
        "id": "4TzDiozSK4dK"
      }
    },
    {
      "cell_type": "code",
      "source": [
        "# Importar libreria con abreviación\n",
        "import random as rd"
      ],
      "metadata": {
        "id": "Ckkt7mmZKv8_"
      },
      "execution_count": null,
      "outputs": []
    },
    {
      "cell_type": "code",
      "source": [
        "# rd.seed(10) # Definir una semilla filla\n",
        "\n",
        "# Generar numeros aleatorios enteros\n",
        "for _ in range(5):\n",
        "  print(rd.randint(1, 10))"
      ],
      "metadata": {
        "id": "xrTEsUhWMG9M"
      },
      "execution_count": null,
      "outputs": []
    },
    {
      "cell_type": "code",
      "source": [
        "# Numero aleatorios reales\n",
        "for _ in range(5):\n",
        "  print(rd.random())"
      ],
      "metadata": {
        "id": "aFDrnY78MPiP"
      },
      "execution_count": null,
      "outputs": []
    },
    {
      "cell_type": "code",
      "source": [
        "for _ in range(5):\n",
        "  print(rd.uniform(1, 10))"
      ],
      "metadata": {
        "id": "xlvmwlU9M71v"
      },
      "execution_count": null,
      "outputs": []
    },
    {
      "cell_type": "code",
      "source": [
        "for _ in range(5):\n",
        "  print(rd.normalvariate(0, 1))"
      ],
      "metadata": {
        "id": "ko_mbU_xNArU"
      },
      "execution_count": null,
      "outputs": []
    },
    {
      "cell_type": "code",
      "source": [
        "# Selección aleatoria\n",
        "valores = ['random', 'choice', 'python']\n",
        "for _ in range(5):\n",
        "  print(rd.choice(valores))"
      ],
      "metadata": {
        "id": "jOMiKxVeND9R"
      },
      "execution_count": null,
      "outputs": []
    },
    {
      "cell_type": "code",
      "source": [
        "# Selección muestral\n",
        "for _ in range(5):\n",
        "  print(rd.choices(valores,weights=[0.1,0.3,0.6],k=2))"
      ],
      "metadata": {
        "id": "_4F3aZ7xNjXN"
      },
      "execution_count": null,
      "outputs": []
    },
    {
      "cell_type": "code",
      "source": [
        "# Prueba otras funciones en random"
      ],
      "metadata": {
        "id": "2KRh0NClN-5e"
      },
      "execution_count": null,
      "outputs": []
    },
    {
      "cell_type": "markdown",
      "source": [
        "# NumPy\n",
        "[Numpy](https://numpy.org/doc/stable/user/index.html) es una librería fundamental en Python para la computación numérica. Proporciona un objeto de array multidimensional de alto rendimiento, llamado ndarray, junto con una vasta colección de funciones para operar con estos arrays. A diferencia de las listas de Python, los arrays de NumPy son homogéneos (contienen elementos del mismo tipo de dato) y están optimizados para operaciones matemáticas y lógicas en grandes conjuntos de datos, lo que los hace significativamente más rápidos y eficientes en memoria. NumPy es la base para muchas otras librerías de ciencia de datos en Python, como Pandas y Matplotlib.\n",
        "\n",
        "La fuerza de NumPy radica en su capacidad para realizar operaciones vectorizadas, lo que significa que las operaciones se aplican a todos los elementos del array simultáneamente, sin necesidad de bucles explícitos de Python. Esto no solo mejora el rendimiento, sino que también simplifica el código. NumPy incluye funciones para manipulación de arrays (reshape, slicing, indexing), álgebra lineal, transformadas de Fourier, generación de números aleatorios y mucho más. Es una herramienta esencial para cualquier tarea que involucre el trabajo con datos numéricos en Python, desde el análisis de datos hasta el aprendizaje automático."
      ],
      "metadata": {
        "id": "0leyRgGJagWM"
      }
    },
    {
      "cell_type": "code",
      "source": [
        "# Importar libreria\n",
        "import numpy as np"
      ],
      "metadata": {
        "id": "SIySPtXofGw3"
      },
      "execution_count": null,
      "outputs": []
    },
    {
      "cell_type": "code",
      "source": [
        "# ndarrays de multiples dimensiones\n",
        "a1D = np.array([1, 2, 3])\n",
        "a2D = np.array([[1, 2, 3], [4, 5, 6]])\n",
        "a3D = np.array([[[1, 2, 3], [4, 5, 6]], [[7, 8, 9], [10, 11, 12]]])"
      ],
      "metadata": {
        "id": "1ddGPoZ3fJ-n"
      },
      "execution_count": null,
      "outputs": []
    },
    {
      "cell_type": "code",
      "source": [
        "a1D"
      ],
      "metadata": {
        "id": "Hs0xKDVbf4Cu"
      },
      "execution_count": null,
      "outputs": []
    },
    {
      "cell_type": "code",
      "source": [
        "# Crear array con incrementos regulares de un valor\n",
        "np.arange(1, 10, 2)"
      ],
      "metadata": {
        "id": "Yjc1D1uFf9Tz"
      },
      "execution_count": null,
      "outputs": []
    },
    {
      "cell_type": "code",
      "source": [
        "# Crear array con una cantidad de elementos igualmente espaciados\n",
        "np.linspace(0, 1, 5)"
      ],
      "metadata": {
        "id": "bFzzO374gkSI"
      },
      "execution_count": null,
      "outputs": []
    },
    {
      "cell_type": "code",
      "source": [
        "# Crear una matriz identidad\n",
        "np.eye(3)"
      ],
      "metadata": {
        "id": "3Fpvww-wgmdG"
      },
      "execution_count": null,
      "outputs": []
    },
    {
      "cell_type": "code",
      "source": [
        "# Crear una matriz diagonal\n",
        "np.diag([1, 2, 3])"
      ],
      "metadata": {
        "id": "AexEgv_chG9d"
      },
      "execution_count": null,
      "outputs": []
    },
    {
      "cell_type": "code",
      "source": [
        "# Obtener la diagonal de una matriz\n",
        "a = np.array([[1, 2, 3], [4, 5, 6], [7, 8, 9]])\n",
        "np.diag(a)"
      ],
      "metadata": {
        "id": "D-0rHQAFhaI4"
      },
      "execution_count": null,
      "outputs": []
    },
    {
      "cell_type": "markdown",
      "source": [
        "# Pandas\n",
        "\n",
        "[Pandas](https://pandas.pydata.org/docs/user_guide/index.html) es una biblioteca de código abierto fundamental en Python, diseñada para el análisis y la manipulación de datos de manera rápida y eficiente. Se basa en dos estructuras de datos principales: las Series, que son arrays unidimensionales, y los DataFrames, que son tablas bidimensionales similares a hojas de cálculo. Estas estructuras facilitan enormemente el trabajo con datos estructurados, permitiendo realizar operaciones como filtrado, selección, agregación y transformación de datos de forma intuitiva.\n",
        "\n",
        "La versatilidad de pandas la convierte en una herramienta indispensable para científicos de datos y analistas. Permite cargar datos desde diversas fuentes como archivos CSV, Excel, bases de datos, entre otros. Además, ofrece una amplia gama de funcionalidades para limpiar y preparar los datos, manejar valores faltantes y combinar conjuntos de datos. Su integración con otras bibliotecas como NumPy y Matplotlib amplía aún más sus capacidades para el análisis numérico y la visualización de datos.\n"
      ],
      "metadata": {
        "id": "8mlpkvIVO2Hn"
      }
    },
    {
      "cell_type": "code",
      "source": [
        "# Importar libreria\n",
        "import pandas as pd"
      ],
      "metadata": {
        "id": "4jYyrlWuOx0h"
      },
      "execution_count": null,
      "outputs": []
    },
    {
      "cell_type": "code",
      "source": [
        "# Crear un DataFrame a partir de una lista\n",
        "valores = [[1, 2, 3], [4, 5, 6], [7, 8, 9]]\n",
        "df = pd.DataFrame(valores, columns=['A', 'B', 'C'])\n",
        "print(df)"
      ],
      "metadata": {
        "id": "vvEPa7TiSijC"
      },
      "execution_count": null,
      "outputs": []
    },
    {
      "cell_type": "code",
      "source": [
        "# Crear un DataFrame a partir de un diccionario\n",
        "datos = {'A': [1, 4, 7], 'B': [2, 5, 8], 'C': [3, 6, 9]}\n",
        "df = pd.DataFrame(datos)\n",
        "print(df)"
      ],
      "metadata": {
        "id": "bOdDbMVQTA9U"
      },
      "execution_count": null,
      "outputs": []
    },
    {
      "cell_type": "markdown",
      "source": [
        "Ahora utilizaremos el dataset [Medical Cost Personal Dtasets](https://www.kaggle.com/datasets/mirichoi0218/insurance)."
      ],
      "metadata": {
        "id": "lmPHpc5tX6jT"
      }
    },
    {
      "cell_type": "code",
      "source": [
        "# Cargar un DataFrame a partir de un archivo csv\n",
        "df = pd.read_csv('insurance.csv')\n",
        "print(df.head())"
      ],
      "metadata": {
        "id": "X2-PZI3WTLg3"
      },
      "execution_count": null,
      "outputs": []
    },
    {
      "cell_type": "code",
      "source": [
        "# Obtener lista de columnas\n",
        "print(df.columns)"
      ],
      "metadata": {
        "id": "c8Mwm_HNZeRf"
      },
      "execution_count": null,
      "outputs": []
    },
    {
      "cell_type": "code",
      "source": [
        "# Realizar una descripción de los datos\n",
        "print(df.describe().T)"
      ],
      "metadata": {
        "id": "X-MH9vq9Zna6"
      },
      "execution_count": null,
      "outputs": []
    },
    {
      "cell_type": "code",
      "source": [
        "# Crear un grafico de dispersión de los datos\n",
        "df.plot(kind='scatter', x='age', y='charges')\n",
        "plt.show()"
      ],
      "metadata": {
        "id": "5a747l9eZuB2"
      },
      "execution_count": null,
      "outputs": []
    },
    {
      "cell_type": "code",
      "source": [
        "# Crear un histograma\n",
        "df['bmi'].plot(kind='hist', bins=10)\n",
        "plt.show()"
      ],
      "metadata": {
        "id": "fYF9q1oDbszm"
      },
      "execution_count": null,
      "outputs": []
    },
    {
      "cell_type": "code",
      "source": [
        "# Explora más funciones de pandas"
      ],
      "metadata": {
        "id": "O0mPFukbdoVl"
      },
      "execution_count": null,
      "outputs": []
    },
    {
      "cell_type": "markdown",
      "source": [
        "# Matplotlib\n",
        "\n",
        "[Matplotlib](https://matplotlib.org/stable/users/index.html) es una biblioteca de visualización de datos en Python que te permite crear una amplia variedad de gráficos estáticos, interactivos y animados de manera sencilla. Es muy utilizada en ciencia de datos, análisis numérico y publicaciones científicas debido a su flexibilidad y capacidad para generar visualizaciones de alta calidad. Permite controlar casi todos los aspectos de un gráfico, desde los colores y estilos de línea hasta las etiquetas y títulos, lo que la hace ideal para crear representaciones personalizadas de tus datos.\n",
        "\n",
        "La biblioteca Matplotlib se estructura en torno a una jerarquía de objetos, donde el objeto principal es la figura, que contiene uno o varios ejes (plots). Puedes crear diferentes tipos de gráficos como líneas, barras, histogramas, gráficos de dispersión, gráficos de pastel, entre muchos otros. Además, se integra bien con otras bibliotecas populares de Python como NumPy y pandas, facilitando la visualización de datos contenidos en arrays y DataFrames. Con Matplotlib, puedes exportar tus gráficos a diversos formatos de archivo, como PNG, JPG, PDF, entre otros."
      ],
      "metadata": {
        "id": "fp5p211EdSbr"
      }
    },
    {
      "cell_type": "code",
      "source": [
        "# Ejemplo de la guia de usuario de matplotlib\n",
        "import matplotlib.pyplot as plt\n",
        "import numpy as np\n",
        "\n",
        "np.random.seed(19680801)  # seed the random number generator.\n",
        "data = {'a': np.arange(50),\n",
        "        'c': np.random.randint(0, 50, 50),\n",
        "        'd': np.random.randn(50)}\n",
        "data['b'] = data['a'] + 10 * np.random.randn(50)\n",
        "data['d'] = np.abs(data['d']) * 100\n",
        "\n",
        "fig, ax = plt.subplots(figsize=(5, 2.7), layout='constrained')\n",
        "ax.scatter('a', 'b', c='c', s='d', data=data)\n",
        "ax.set_xlabel('entry a')\n",
        "ax.set_ylabel('entry b')\n",
        "plt.show()"
      ],
      "metadata": {
        "id": "qAb8CdhkiWRK"
      },
      "execution_count": null,
      "outputs": []
    },
    {
      "cell_type": "code",
      "source": [
        "# Ejemplo de la guia de usuario de matplotlib\n",
        "x = np.linspace(0, 2, 100)  # Sample data.\n",
        "\n",
        "# Note that even in the OO-style, we use `.pyplot.figure` to create the Figure.\n",
        "fig, ax = plt.subplots(figsize=(5, 2.7), layout='constrained')\n",
        "ax.plot(x, x, label='linear')  # Plot some data on the Axes.\n",
        "ax.plot(x, x**2, label='quadratic')  # Plot more data on the Axes...\n",
        "ax.plot(x, x**3, label='cubic')  # ... and some more.\n",
        "ax.set_xlabel('x label')  # Add an x-label to the Axes.\n",
        "ax.set_ylabel('y label')  # Add a y-label to the Axes.\n",
        "ax.set_title(\"Simple Plot\")  # Add a title to the Axes.\n",
        "ax.legend()  # Add a legend.\n",
        "plt.show()"
      ],
      "metadata": {
        "id": "7GsjPZ1IknYp"
      },
      "execution_count": null,
      "outputs": []
    },
    {
      "cell_type": "code",
      "source": [
        "# Ejemplo de la guia de usuario de matplotlib\n",
        "mu, sigma = 115, 15\n",
        "x = mu + sigma * np.random.randn(10000)\n",
        "fig, ax = plt.subplots(figsize=(5, 2.7), layout='constrained')\n",
        "# the histogram of the data\n",
        "n, bins, patches = ax.hist(x, 50, density=True, facecolor='C0', alpha=0.75)\n",
        "\n",
        "ax.set_xlabel('Length [cm]')\n",
        "ax.set_ylabel('Probability')\n",
        "ax.set_title('Aardvark lengths\\n (not really)')\n",
        "ax.text(75, .025, r'$\\mu=115,\\ \\sigma=15$')\n",
        "ax.axis([55, 175, 0, 0.03])\n",
        "ax.grid(True)"
      ],
      "metadata": {
        "id": "3-dcJ2N_lNrG"
      },
      "execution_count": null,
      "outputs": []
    },
    {
      "cell_type": "code",
      "source": [
        "# Ejemplo de la guia de usuario de matplotlib\n",
        "from matplotlib.colors import LogNorm\n",
        "data1, data2, data3, data4 = np.random.randn(4, 100)  # make 4 random data sets\n",
        "\n",
        "X, Y = np.meshgrid(np.linspace(-3, 3, 128), np.linspace(-3, 3, 128))\n",
        "Z = (1 - X/2 + X**5 + Y**3) * np.exp(-X**2 - Y**2)\n",
        "\n",
        "fig, axs = plt.subplots(2, 2, layout='constrained')\n",
        "pc = axs[0, 0].pcolormesh(X, Y, Z, vmin=-1, vmax=1, cmap='RdBu_r')\n",
        "fig.colorbar(pc, ax=axs[0, 0])\n",
        "axs[0, 0].set_title('pcolormesh()')\n",
        "\n",
        "co = axs[0, 1].contourf(X, Y, Z, levels=np.linspace(-1.25, 1.25, 11))\n",
        "fig.colorbar(co, ax=axs[0, 1])\n",
        "axs[0, 1].set_title('contourf()')\n",
        "\n",
        "pc = axs[1, 0].imshow(Z**2 * 100, cmap='plasma', norm=LogNorm(vmin=0.01, vmax=100))\n",
        "fig.colorbar(pc, ax=axs[1, 0], extend='both')\n",
        "axs[1, 0].set_title('imshow() with LogNorm()')\n",
        "\n",
        "pc = axs[1, 1].scatter(data1, data2, c=data3, cmap='RdBu_r')\n",
        "fig.colorbar(pc, ax=axs[1, 1], extend='both')\n",
        "axs[1, 1].set_title('scatter()')\n",
        "plt.show()"
      ],
      "metadata": {
        "id": "0AjDIOSNl-t8"
      },
      "execution_count": null,
      "outputs": []
    },
    {
      "cell_type": "markdown",
      "source": [
        "# Scikit-learn\n",
        "\n",
        "[Scikit-learn](https://scikit-learn.org/stable/user_guide.html) es una biblioteca de Python ampliamente utilizada y muy popular para el aprendizaje automático. Proporciona herramientas sencillas y eficientes para una variedad de tareas comunes en el aprendizaje automático, como clasificación, regresión, agrupamiento, reducción de dimensionalidad, selección de modelos y preprocesamiento de datos. Está construida sobre otras bibliotecas científicas de Python como NumPy, SciPy y Matplotlib.\n",
        "\n",
        "La facilidad de uso y la documentación completa hacen de scikit-learn una excelente opción tanto para principiantes como para expertos en aprendizaje automático. Su diseño consistente y bien estructurado permite a los usuarios experimentar con diferentes algoritmos y técnicas rápidamente. Además, scikit-learn se integra perfectamente con el ecosistema de ciencia de datos de Python, facilitando la construcción de flujos de trabajo completos para el análisis y modelado de datos."
      ],
      "metadata": {
        "id": "SI6aYulZnxKK"
      }
    },
    {
      "cell_type": "markdown",
      "source": [
        "# Material extra\n",
        "\n",
        "- [Curso de Introducción a Python (217-A).](https://github.com/jramon0624/curso_python_217a)\n",
        "- [Libros gratuitos de programación en Python.](https://github.com/pamoroso/free-Python-books)\n",
        "- [Redes Neuronales y Aprendizaje Profundo](http://neuralnetworksanddeeplearning.com/index.html) (WebBook).\n",
        "- [Exportar graficos Matplotlib a LaTex.](https://blog.timodenk.com/exporting-matplotlib-plots-to-latex/)\n",
        "- [Guia de graficos TikZ](https://tikz.jp) (WebBook).\n"
      ],
      "metadata": {
        "id": "uPnJ9GLopQfe"
      }
    },
    {
      "cell_type": "code",
      "source": [],
      "metadata": {
        "id": "DadX6_3vrmzv"
      },
      "execution_count": null,
      "outputs": []
    }
  ]
}